{
  "nbformat": 4,
  "nbformat_minor": 0,
  "metadata": {
    "colab": {
      "provenance": []
    },
    "kernelspec": {
      "name": "python3",
      "display_name": "Python 3"
    },
    "language_info": {
      "name": "python"
    }
  },
  "cells": [
    {
      "cell_type": "markdown",
      "source": [
        "***Learning pytorch for Deep*** ***Learning***\n",
        "\n",
        "\n"
      ],
      "metadata": {
        "id": "9OjeDLHV__pc"
      }
    },
    {
      "cell_type": "code",
      "source": [
        "import torch\n",
        "import time\n",
        "import numpy as np\n",
        "import matplotlib.pyplot as plt"
      ],
      "metadata": {
        "id": "YIeCWAFVARMl"
      },
      "execution_count": null,
      "outputs": []
    },
    {
      "cell_type": "code",
      "source": [
        "torch.set_printoptions(precision=4, sci_mode=False)"
      ],
      "metadata": {
        "id": "kyumrviMAf7j"
      },
      "execution_count": null,
      "outputs": []
    },
    {
      "cell_type": "markdown",
      "source": [
        "**Create Tensor and modify its** ***elements***"
      ],
      "metadata": {
        "id": "-bFZVubAAoJp"
      }
    },
    {
      "cell_type": "code",
      "source": [
        "t=torch.zeros(5,3)\n",
        "print(t)\n",
        "print(\"\\nsize:\",t.shape, sep ='\\n')"
      ],
      "metadata": {
        "id": "lfUB9yRXAyqK",
        "outputId": "be2122ab-fcd6-48a6-affb-58ea734754fa",
        "colab": {
          "base_uri": "https://localhost:8080/"
        }
      },
      "execution_count": null,
      "outputs": [
        {
          "output_type": "stream",
          "name": "stdout",
          "text": [
            "tensor([[0., 0., 0.],\n",
            "        [0., 0., 0.],\n",
            "        [0., 0., 0.],\n",
            "        [0., 0., 0.],\n",
            "        [0., 0., 0.]])\n",
            "\n",
            "size:\n",
            "torch.Size([5, 3])\n"
          ]
        }
      ]
    },
    {
      "cell_type": "code",
      "source": [
        "t[0,2],t[2,0]=10,100"
      ],
      "metadata": {
        "id": "bUXYTR_yA242"
      },
      "execution_count": null,
      "outputs": []
    },
    {
      "cell_type": "markdown",
      "source": [
        "*Reshape tensor*"
      ],
      "metadata": {
        "id": "R6zHXgA5A-K5"
      }
    },
    {
      "cell_type": "code",
      "source": [
        "x=torch.tensor([0, 1, 2, 3, 4, 5, 6, 7, 8, 9, 10, 11, 12, 13, 14, 15, 16, 17, 18, 19, 20, 21, 22, 23])\n",
        "x=torch.reshape(x,(6,4))\n",
        "torch.transpose(x,0,1)"
      ],
      "metadata": {
        "id": "g1b8Ec3NBAIr",
        "outputId": "f0e77ec1-4996-448e-ef30-7704ac41f037",
        "colab": {
          "base_uri": "https://localhost:8080/"
        }
      },
      "execution_count": null,
      "outputs": [
        {
          "output_type": "execute_result",
          "data": {
            "text/plain": [
              "tensor([[ 0,  4,  8, 12, 16, 20],\n",
              "        [ 1,  5,  9, 13, 17, 21],\n",
              "        [ 2,  6, 10, 14, 18, 22],\n",
              "        [ 3,  7, 11, 15, 19, 23]])"
            ]
          },
          "metadata": {},
          "execution_count": 6
        }
      ]
    },
    {
      "cell_type": "markdown",
      "source": [
        "***Speedtest for vectorization***"
      ],
      "metadata": {
        "id": "g9nSVXEKBJ8O"
      }
    },
    {
      "cell_type": "code",
      "source": [
        "torch.manual_seed(42)\n",
        "A = torch.randn((1024,1024))\n",
        "B = torch.randn((1024,1024))"
      ],
      "metadata": {
        "id": "toSYUjudDGgu"
      },
      "execution_count": null,
      "outputs": []
    },
    {
      "cell_type": "code",
      "source": [
        "# C=AB using matrix-matrix operations\n",
        "start=time.time()\n",
        "C = torch.mm(A, B)\n",
        "print(\"Matrix by matrix: \" + str(time.time()-start) + \" seconds\")\n",
        "\n",
        "# C=AB, treating A as a matrix but computing the result for each column of B one at a time\n",
        "C= torch.empty(1024,1024)\n",
        "start = time.time()\n",
        "for col in range(B.shape[1]):\n",
        "  col_of_b=B[:,col]\n",
        "  col_of_c=torch.mv(A, col_of_b)\n",
        "  C[:,col]=col_of_c\n",
        "\n",
        "print(\"Matrix by vector: \" + str(time.time()-start) + \" seconds\")\n"
      ],
      "metadata": {
        "id": "Lo8LD4KzDcjF",
        "outputId": "8e63ade2-d38d-4ddf-b123-b592afe3b451",
        "colab": {
          "base_uri": "https://localhost:8080/"
        }
      },
      "execution_count": null,
      "outputs": [
        {
          "output_type": "stream",
          "name": "stdout",
          "text": [
            "Matrix by matrix: 0.06028461456298828 seconds\n",
            "Matrix by vector: 0.2978076934814453 seconds\n"
          ]
        }
      ]
    },
    {
      "cell_type": "code",
      "source": [
        "# C=AB, treating A and B as collections of vectors\n",
        "C= torch.empty(1024,1024)\n",
        "start = time.time()\n",
        "for i in range(C.shape[0]):\n",
        "    for j in range(C.shape[1]):\n",
        "        C[i, j] = torch.dot(A[i], B[:, j])\n",
        "print(\"vector by vector: \" + str(time.time()-start) + \" seconds\")"
      ],
      "metadata": {
        "id": "hUIcxaVMD1zJ"
      },
      "execution_count": null,
      "outputs": []
    },
    {
      "cell_type": "markdown",
      "source": [
        "***Redo using GPU***"
      ],
      "metadata": {
        "id": "8w3oL7ADEKvz"
      }
    },
    {
      "cell_type": "code",
      "source": [
        "# Check if GPU is availaible\n",
        "device = torch.device('cuda:0' if torch.cuda.is_available() else 'cpu')\n",
        "print(device)"
      ],
      "metadata": {
        "id": "cj8PImFNEP4w"
      },
      "execution_count": null,
      "outputs": []
    },
    {
      "cell_type": "code",
      "source": [
        "torch.manual_seed(42)\n",
        "A= torch.randn((1024, 1024),device=device)\n",
        "B= torch.randn((1024, 1024),device=device)"
      ],
      "metadata": {
        "id": "25KebyOsEVHm"
      },
      "execution_count": null,
      "outputs": []
    },
    {
      "cell_type": "code",
      "source": [],
      "metadata": {
        "id": "bDPd9jzOEVsU"
      },
      "execution_count": null,
      "outputs": []
    }
  ]
}